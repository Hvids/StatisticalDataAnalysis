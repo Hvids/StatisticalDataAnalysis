{
 "cells": [
  {
   "cell_type": "markdown",
   "metadata": {},
   "source": [
    "## Генерация выборок\n"
   ]
  },
  {
   "cell_type": "code",
   "execution_count": 1,
   "metadata": {},
   "outputs": [],
   "source": [
    "import numpy as np\n",
    "import pandas as pd\n",
    "from scipy import stats\n",
    "import matplotlib.pyplot as plt\n",
    "\n",
    "def gen_gaussian_lin_mono(mu, sigma, n):\n",
    "    x = np.random.normal(mu, sigma, n)\n",
    "    z = np.random.normal(mu, sigma, n)\n",
    "    y = 0.6 * x + 0.4 * z\n",
    "    return x, y\n",
    "\n",
    "def gen_notgaussian_notlin_mono(mu, sigma, n):\n",
    "    x = np.random.normal(mu, sigma, n)\n",
    "    z = np.random.normal(mu*2, sigma*10, n)\n",
    "    y = 2*x**3 + 3*z\n",
    "    return x, y\n",
    "\n",
    "def gen_notgaussian_notlin_notmono(mu, sigma, n):\n",
    "    x = np.random.normal(mu, sigma, n)\n",
    "    z = np.random.normal(mu*2, sigma*2, n)\n",
    "    y = x ** 2 + z ** 2\n",
    "    return x, y"
   ]
  },
  {
   "cell_type": "code",
   "execution_count": 2,
   "metadata": {},
   "outputs": [],
   "source": [
    "def make_test(test, count_view= 100, n =100):\n",
    "    freq_error_gaussian = 0\n",
    "    freq_error_notgaussian_liner = 0\n",
    "    freq_error_notgaussian_notliner = 0\n",
    "    \n",
    "    for _ in range(n):\n",
    "        x_gaus, y_gaus = gen_gaussian_lin_mono(2, 10, count_view)\n",
    "        x_notgaus_liner, y_notgaus_liner = gen_notgaussian_notlin_mono(2, 10, count_view)\n",
    "        x_notgaus_notliner, y_notgaus_notliner = gen_notgaussian_notlin_notmono(2, 10, count_view)\n",
    "        freq_error_gaussian = freq_error_gaussian + test(x_gaus,y_gaus)[2]\n",
    "        freq_error_notgaussian_liner =freq_error_notgaussian_liner + test(x_notgaus_liner,y_notgaus_liner)[2]\n",
    "        freq_error_notgaussian_notliner =freq_error_notgaussian_notliner + test(x_notgaus_notliner,y_notgaus_notliner)[2]\n",
    "    \n",
    "    return freq_error_gaussian/n, freq_error_notgaussian_liner/n, freq_error_notgaussian_notliner/n\n",
    "        \n",
    "        \n",
    "    "
   ]
  },
  {
   "cell_type": "markdown",
   "metadata": {},
   "source": [
    "## Выборочный коэффициент корреляции\n",
    "\n",
    "Проверка зависимости двух нормально распределённых признаков"
   ]
  },
  {
   "cell_type": "code",
   "execution_count": 3,
   "metadata": {},
   "outputs": [],
   "source": [
    "def corr_test(x, y, alpha = 0.05):\n",
    "    # флаг, который указывает, принимаем H0 или отвергаем : 1-отвергаем, 0 - принимаем\n",
    "    complete = 0\n",
    "    # кол-во элементов в выборке\n",
    "    n = len(x)\n",
    "    # вычисялем выборочное среднее выборок\n",
    "    x_mean = x.mean()\n",
    "    y_mean = y.mean()\n",
    "    # вычисляем выборочный коэф корреляции\n",
    "    r = (1 / n * np.sum((x - x_mean) * (y - y_mean))) / \\\n",
    "    (1 / n * np.sum((x - x_mean) ** 2) * 1 / n * np.sum((y - y_mean) ** 2)) ** 0.5\n",
    "    t_value = n ** 0.5 * r\n",
    "    p_value = np.min(np.array([2 * stats.norm.cdf(t_value), 2 - 2 * stats.norm.cdf(t_value)]), axis=0)\n",
    "    if (p_value > alpha / 2) and (p_value < (1 - alpha / 2)):\n",
    "        complete = 0\n",
    "    else:\n",
    "        complete = 1\n",
    "    return r, t_value, p_value, complete"
   ]
  },
  {
   "cell_type": "code",
   "execution_count": 4,
   "metadata": {},
   "outputs": [
    {
     "name": "stdout",
     "output_type": "stream",
     "text": [
      "\n",
      "    Частота ошибок критерия корреляции\n",
      "    Гауссова 1.0058620603103919e-15\n",
      "    Не гауссова линеная 3.022937455909869e-13\n",
      "    Не гаусова не линейная 0.39427462336984326\n",
      "\n"
     ]
    }
   ],
   "source": [
    "f_gaus, f_ngaus, g_ngaus_nl = make_test(corr_test)\n",
    "print(f\"\"\"\n",
    "    Частота ошибок критерия корреляции\n",
    "    Гауссова {f_gaus}\n",
    "    Не гауссова линеная {f_ngaus}\n",
    "    Не гаусова не линейная {g_ngaus_nl}\n",
    "\"\"\")"
   ]
  },
  {
   "cell_type": "markdown",
   "metadata": {},
   "source": [
    "## Критерий Спирмана\n",
    "\n",
    "Признаки ненормальны, подозревается монотонная зависимость"
   ]
  },
  {
   "cell_type": "code",
   "execution_count": 5,
   "metadata": {},
   "outputs": [],
   "source": [
    "def ranging(x):\n",
    "    x_sorted = np.sort(x)\n",
    "    R = np.array([])\n",
    "    elems = np.array([])\n",
    "    x_rangs =  np.array([])\n",
    "    i = 1\n",
    "    while i <= len(x):\n",
    "        x_count = (x_sorted == x_sorted[i-1]).sum()\n",
    "        if x_count == 1:\n",
    "            R = np.append(R, i)\n",
    "            elems = np.append(elems, x_sorted[x_sorted == x_sorted[i-1]])\n",
    "        else:\n",
    "            for j in range(x_count):\n",
    "                R = np.append(R, i + (c - 1) / 2)\n",
    "                elems = np.append(elems, x_sorted[x_sorted == x_sorted[i-1]][0])\n",
    "        i += x_count\n",
    "    for i in range(len(x)):\n",
    "        idx = np.where(elems == x[i])\n",
    "        x_rangs = np.append(x_rangs, R[idx[0]])\n",
    "    return x_rangs\n",
    "\n",
    "def spearman(x, y, alpha = 0.05):\n",
    "    complete = 0\n",
    "    n = len(x)\n",
    "    x_rangs = ranging(x)\n",
    "    y_rangs = ranging(y)\n",
    "    r_spearman = 1 - 6 / (n ** 3 - n) * np.sum((x_rangs - y_rangs) ** 2)\n",
    "    t_value = (n-1) ** 0.5 * r_spearman\n",
    "    p_value = np.min(np.array([2 * stats.norm.cdf(t_value), 2 - 2 * stats.norm.cdf(t_value)]), axis=0)\n",
    "    if (p_value > alpha / 2) and (p_value < (1 - alpha / 2)):\n",
    "        complete = 0\n",
    "    else:\n",
    "        complete = 1\n",
    "    return r_spearman, t_value, p_value, complete"
   ]
  },
  {
   "cell_type": "code",
   "execution_count": 6,
   "metadata": {},
   "outputs": [
    {
     "name": "stdout",
     "output_type": "stream",
     "text": [
      "\n",
      "    Частота ошибок критерия Спирмена\n",
      "    Гауссова 5.246247880563715e-14\n",
      "    Не гауссова линеная 0.0\n",
      "    Не гаусова не линейная 0.35563447801335957\n",
      "\n"
     ]
    }
   ],
   "source": [
    "f_gaus, f_ngaus, g_ngaus_nl = make_test(spearman)\n",
    "print(f\"\"\"\n",
    "    Частота ошибок критерия Спирмена\n",
    "    Гауссова {f_gaus}\n",
    "    Не гауссова линеная {f_ngaus}\n",
    "    Не гаусова не линейная {g_ngaus_nl}\n",
    "\"\"\")"
   ]
  },
  {
   "cell_type": "markdown",
   "metadata": {},
   "source": [
    "## Критерий Хи-квадрат Пирсона"
   ]
  },
  {
   "cell_type": "code",
   "execution_count": 7,
   "metadata": {},
   "outputs": [],
   "source": [
    "def to_nominal(x, k):\n",
    "    x_sort = np.sort(x)\n",
    "    x_in_scale = np.zeros(k)\n",
    "    slices = np.linspace(x_sort[0], x_sort[-1], k+1)\n",
    "    for i in range(k):\n",
    "        x_part = x[x >= slices[i]]\n",
    "        x_count = (x_part <= slices[i+1]).sum()\n",
    "        x_in_scale[i] = x_count\n",
    "    return x_in_scale\n",
    "\n",
    "def pirson(x, y, alpha = 0.05):\n",
    "    complete = 0\n",
    "    n = len(x)\n",
    "    x_nom = to_nominal(x, 5)\n",
    "    y_nom = to_nominal(y, 5)\n",
    "    matrix = np.concatenate(([x_nom], [y_nom])) \n",
    "    chi2_value = 0\n",
    "    for i in range(2):\n",
    "        for j in range(len(x_nom)):\n",
    "            chi2_value += (matrix[i][j] - (np.sum(matrix[i]) * np.sum(matrix[:,j]) / np.sum(matrix))) ** 2 \\\n",
    "            / (np.sum(matrix[i]) * np.sum(matrix[:,j]) / np.sum(matrix))\n",
    "            \n",
    "   \n",
    "    p_value = 1 - stats.chi2.cdf(chi2_value, (len(x_nom) - 1))\n",
    "    if p_value > alpha:\n",
    "        complete = 0\n",
    "    else:\n",
    "        complete = 1\n",
    "    return chi2_value, p_value, complete"
   ]
  },
  {
   "cell_type": "code",
   "execution_count": 8,
   "metadata": {},
   "outputs": [
    {
     "name": "stdout",
     "output_type": "stream",
     "text": [
      "\n",
      "    Частота ошибок критерия Спирмена\n",
      "    Гауссова 0.21\n",
      "    Не гауссова линеная 0.99\n",
      "    Не гаусова не линейная 1.0\n",
      "\n"
     ]
    }
   ],
   "source": [
    "f_gaus, f_ngaus, g_ngaus_nl = make_test(pirson)\n",
    "print(f\"\"\"\n",
    "    Частота ошибок критерия Спирмена\n",
    "    Гауссова {f_gaus}\n",
    "    Не гауссова линеная {f_ngaus}\n",
    "    Не гаусова не линейная {g_ngaus_nl}\n",
    "\"\"\")"
   ]
  }
 ],
 "metadata": {
  "kernelspec": {
   "display_name": "Python 3",
   "language": "python",
   "name": "python3"
  },
  "language_info": {
   "codemirror_mode": {
    "name": "ipython",
    "version": 3
   },
   "file_extension": ".py",
   "mimetype": "text/x-python",
   "name": "python",
   "nbconvert_exporter": "python",
   "pygments_lexer": "ipython3",
   "version": "3.7.3"
  },
  "toc": {
   "base_numbering": 1,
   "nav_menu": {},
   "number_sections": true,
   "sideBar": true,
   "skip_h1_title": false,
   "title_cell": "Table of Contents",
   "title_sidebar": "Contents",
   "toc_cell": false,
   "toc_position": {},
   "toc_section_display": true,
   "toc_window_display": true
  }
 },
 "nbformat": 4,
 "nbformat_minor": 4
}
